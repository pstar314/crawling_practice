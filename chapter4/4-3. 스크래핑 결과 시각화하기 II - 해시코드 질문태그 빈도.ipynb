{
 "cells": [
  {
   "cell_type": "markdown",
   "metadata": {
    "tags": []
   },
   "source": [
    "## 4-2. 스크래핑 결과 시각화하기 I - 해시코드 질문태그 빈도 시각화\n",
    "\n",
    "- bs4와 Seaborn을 이용해서 질문의 주제 빈도를 보여주는 시각화를 진행해봅시다."
   ]
  },
  {
   "cell_type": "markdown",
   "metadata": {},
   "source": [
    "### Target: 해시코드 질문 태그의 빈도 확인\n",
    "\n",
    "이전에 진행한 해시코드(https://hashcode.co.kr) 사이트에선 다양한 질문이 올라왔는데,  \n",
    "질문제목 아래에 \"태그\"가 있었습니다.\n",
    "\n",
    "이 태그의 빈도를 측정하면 어떤 주제의 질문이 많이 올라오는지 알 수 있을 것 같습니다.  \n",
    "이를 스크래핑 후 시각화해봅시다."
   ]
  },
  {
   "cell_type": "code",
   "execution_count": 1,
   "metadata": {},
   "outputs": [],
   "source": [
    "# 다음 User-Agent를 추가해봅시다.\n",
    "\n",
    "user_agent = {\"User-Agent\": \"Mozilla/5.0 (Macintosh; Intel Mac OS X 10_15_4) AppleWebKit/537.36 (KHTML, like Gecko) Chrome/83.0.4103.97 Safari/537.36\"}"
   ]
  },
  {
   "cell_type": "code",
   "execution_count": 8,
   "metadata": {
    "scrolled": true
   },
   "outputs": [
    {
     "name": "stdout",
     "output_type": "stream",
     "text": [
      "{'python': 234, 'vim': 1, 'c': 43, 'struct': 2, 'generic': 1, 'java': 44, 'deep-learning': 1, 'keyerror': 2, 'pandas': 21, 'dataframe': 10, 'android': 5, 'code': 2, 'matplotlib': 1, 'beautifulsoup': 6, 'replace': 1, 'ai': 3, 'gui': 3, 'tkinter': 4, 'software_development': 1, 'javac': 1, 'ubuntu': 3, 'vmware': 1, 'multithreading': 1, 'algorithm': 6, 'coding-test': 4, 'bfs': 1, 'react': 7, 'javascript': 16, 'arduino': 4, 'node.js': 8, 'regex': 3, 'multiprocessing': 1, 'pygame': 1, 'html': 13, 'css': 7, 'application-development': 1, 'logistic-regression': 2, 'logistic': 1, 'error': 7, 'csv': 4, 'class': 8, 'instance': 1, 'hashmap': 1, 'object': 1, 'windows': 2, 'for': 6, 'selenium-webdrive': 6, 'c++': 21, 'mfc': 1, 'win32': 1, 'django': 4, 'recursive': 4, 'flatten': 1, 'python3': 9, 'dictionary': 4, 'array': 3, 'initialization': 2, 'qt': 2, 'pdf': 1, 'hashcode': 1, 'kotlin': 4, 'private': 2, 'image': 3, 'netlify': 1, 'data': 2, 'directory': 1, 'cv2': 1, 'raspberry-pi': 2, 'dom': 1, 'asynchronous': 1, 'jquery': 2, 'vb.net': 1, 'post': 1, 'webrequest': 1, 'data-structure': 2, 'html5': 2, 'accordion': 1, 'user-interface': 1, 'openpyxl': 5, 'function': 6, 'excel': 3, 'sql': 2, 'dijkstra': 1, 'binary-search-tree': 1, 'index': 1, 'pip': 2, 'install': 1, 'terminal': 1, 'alias': 1, 'map': 1, 'mysql': 3, 'linked-list': 2, 'switch문': 1, 'coding': 2, 'c#': 4, '.net': 1, 'vector': 1, 'ejs': 1, 'if문': 1, 'print': 2, 'crawling': 9, 'vscode': 4, 'prettier': 1, 'pyinstaller': 3, 'import': 2, 'library': 2, 'linux-kernel': 1, 'system': 1, 'recursion': 2, 'game': 3, 'turtle': 1, 'inheritance': 1, 'database': 1, 'min': 1, 'max': 1, 'thread': 1, 'javafx': 1, 'foreach': 2, 'unix': 1, 'linux': 3, 'logging': 1, 'scanf': 1, 'keras': 1, 'winform': 2, 'wpf': 1, 'testing': 1, 'filter': 1, 'stringbuilder': 1, 'c++표준': 1, 'method': 2, 'cdn': 1, 'decryption': 1, 'postfix': 1, 'tree': 2, 'duplicate': 1, 'numpy': 3, 'opencv': 5, 'ssh': 1, 'append': 1, 'decorator': 1, 'string': 4, 'ide': 1, 'anaconda': 1, 'import-에러': 1, 'webdriver': 1, 'selenium': 8, 'scraping': 1, '403clienterror': 1, 'sorting': 2, 'collections': 1, 'join': 1, 'assembly': 1, 'random': 3, 'programming': 2, 'input': 1, 'export': 1, 'visual-studio': 3, 'while-loop': 4, 'ajax': 1, 'spring': 1, 'crypto': 1, 'init': 1, 'def': 2, 'byte': 1, 'utf-8': 1, 'heapsort': 1, 'web-crawling': 2, 'syntax-error': 1, 'eclipse': 3, 'preference': 1, 'plugin': 1, 'file': 2, 'int': 1, 'mssql': 1, 'axios': 2, 'rstudio': 1, 'r': 2, 'formatting': 1, 'pycrypto': 1, 'stack': 2, 'word2vec': 2, 'list': 8, 'output': 1, 'nlp': 1, 'json': 1, 'tensorflow': 1, 'header': 1, 'io': 1, 'restframework': 1, 'encryption': 1, 'postgresql': 1, 'android-studio': 5, 'polynomial': 1, 'xcode': 1, 'network': 1, 'port': 1, 'name': 1, 'fortran': 1, 'regexp': 1, 'service': 1, 'gps': 1, 'loops': 3, 'intellij-idea': 1, 'scala': 1, 'python-3.x': 1, 'continue': 1, 'this': 1, 'git': 1, 'mac': 1, 'github': 3, 'visualstudio': 2, 'keyboard-shortcut': 1, 'typescript': 3, 'npm': 1, 'ios': 1, 'webview': 2, 'webapp': 1, 'ruby-on-rails': 2, 'float': 1, 'parameter': 1, 'return': 1, 'tuple': 3, 'py': 1, 'conditional-statement': 1, 'vue': 1, 'get': 1, 'session': 1, 'psycopg2': 1, 'table': 1, 'socket': 2, 'asyncio': 1, 'ruby': 1, 'oracle': 1, 'mybatis': 1, 'jsp': 1, 'baseball-game': 1, 'jni': 1, 'process': 1, 'web': 1, 'auto': 1, 'macro': 1, 'mariadb': 1, 'canvas': 1, 'fabric': 1, 'iterator': 1, 'regression-analysis': 1, 'statsmodels': 1, 'oop': 1, 'program': 1, 'runtime-error': 1, 'dump': 1, 'flutter': 1, 'dev-c++': 1, 'qt-designer': 1, 'environment-variables': 1, 'preprocessor': 1, 'python3.6.1': 1, 'len': 1, 'python-2.7': 1, 'idle': 1, 'pointer': 1, 'server': 1, 'connect': 1, 'tcp': 1, 'write': 1, 'recyclerview': 2, 'abstract-class': 1, 'eoferror': 1, 'txt': 1, 'macos': 1, 'pyside2': 1, 'firebase': 1, 'datetime': 1, 'date': 1, 'jupyter-notebook': 1, 'konlpy': 1, 'text-mining': 1}\n"
     ]
    }
   ],
   "source": [
    "# 필요한 라이브러리를 불러온 후, 요청을 진행해봅시다.\n",
    "\n",
    "import requests\n",
    "from bs4 import BeautifulSoup\n",
    "import time\n",
    "import warnings\n",
    "warnings.filterwarnings(action='ignore')\n",
    "\n",
    "frequency = {}\n",
    "\n",
    "for i in range(1, 11):\n",
    "    res = requests.get(f'https://hashcode.co.kr/?page={i}', user_agent)\n",
    "    soup = BeautifulSoup(res.text, 'html.parser')\n",
    "\n",
    "    ul_tags = soup.find_all('ul', 'question-tags')\n",
    "    for ul in ul_tags:\n",
    "        li_tags = ul.find_all('li')\n",
    "        for li in li_tags:\n",
    "            frequency[li.text.strip()] = frequency.get(li.text.strip(), 0) + 1\n",
    "    time.sleep(0.5)\n",
    "print(frequency)"
   ]
  },
  {
   "cell_type": "code",
   "execution_count": 9,
   "metadata": {},
   "outputs": [
    {
     "data": {
      "text/plain": [
       "[('python', 234),\n",
       " ('java', 44),\n",
       " ('c', 43),\n",
       " ('pandas', 21),\n",
       " ('c++', 21),\n",
       " ('javascript', 16),\n",
       " ('html', 13),\n",
       " ('dataframe', 10),\n",
       " ('python3', 9),\n",
       " ('crawling', 9)]"
      ]
     },
     "execution_count": 9,
     "metadata": {},
     "output_type": "execute_result"
    }
   ],
   "source": [
    "# Counter를 사용해 가장 빈도가 높은 value들을 추출합니다.\n",
    "\n",
    "from collections import Counter\n",
    "\n",
    "counter = Counter(frequency)\n",
    "\n",
    "counter.most_common(10)"
   ]
  },
  {
   "cell_type": "code",
   "execution_count": 14,
   "metadata": {},
   "outputs": [
    {
     "data": {
      "image/png": "[encoded data removed]",
      "text/plain": [
       "<Figure size 720x360 with 1 Axes>"
      ]
     },
     "metadata": {
      "needs_background": "light"
     },
     "output_type": "display_data"
    }
   ],
   "source": [
    "# Seaborn을 이용해 이를 Barplot으로 그립니다.\n",
    "\n",
    "import seaborn as sns\n",
    "import matplotlib.pyplot as plt\n",
    "\n",
    "x = [i[0] for i in counter.most_common(10)]\n",
    "y = [i[1] for i in counter.most_common(10)]\n",
    "\n",
    "plt.figure(figsize=(10, 5))\n",
    "\n",
    "sns.barplot(\n",
    "    x=x,\n",
    "    y=y\n",
    ")\n",
    "\n",
    "plt.show()"
   ]
  },
  {
   "cell_type": "code",
   "execution_count": null,
   "metadata": {},
   "outputs": [],
   "source": [
    "# figure, xlabel, ylabel, title을 적절하게 설정해서 시각화를 완성해봅시다.\n",
    "\n",
    "plt.rc_params['font'] = ''\n",
    "\n",
    "plt.figure(figsize=(10, 5))\n",
    "plt.title('질문 빈도 수')"
   ]
  }
 ],
 "metadata": {
  "kernelspec": {
   "display_name": "Python 3",
   "language": "python",
   "name": "python3"
  },
  "language_info": {
   "codemirror_mode": {
    "name": "ipython",
    "version": 3
   },
   "file_extension": ".py",
   "mimetype": "text/x-python",
   "name": "python",
   "nbconvert_exporter": "python",
   "pygments_lexer": "ipython3",
   "version": "3.8.3"
  }
 },
 "nbformat": 4,
 "nbformat_minor": 5
}
