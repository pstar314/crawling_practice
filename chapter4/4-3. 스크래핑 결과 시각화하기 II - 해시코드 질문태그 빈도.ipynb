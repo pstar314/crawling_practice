{
 "cells": [
  {
   "cell_type": "markdown",
   "id": "192778f5-b6a0-458f-9d28-2ecd531975a1",
   "metadata": {
    "tags": []
   },
   "source": [
    "## 4-2. 스크래핑 결과 시각화하기 I - 해시코드 질문태그 빈도 시각화\n",
    "\n",
    "- bs4와 Seaborn을 이용해서 질문의 주제 빈도를 보여주는 시각화를 진행해봅시다."
   ]
  },
  {
   "cell_type": "markdown",
   "id": "21cda704-06c6-4de4-83a7-f77fbeec5728",
   "metadata": {},
   "source": [
    "### Target: 해시코드 질문 태그의 빈도 확인\n",
    "\n",
    "이전에 진행한 해시코드(https://hashcode.co.kr) 사이트에선 다양한 질문이 올라왔는데,  \n",
    "질문제목 아래에 \"태그\"가 있었습니다.\n",
    "\n",
    "이 태그의 빈도를 측정하면 어떤 주제의 질문이 많이 올라오는지 알 수 있을 것 같습니다.  \n",
    "이를 스크래핑 후 시각화해봅시다."
   ]
  },
  {
   "cell_type": "code",
   "execution_count": null,
   "id": "4e467384-d9bc-4078-95ba-1ad8b9846a8b",
   "metadata": {},
   "outputs": [],
   "source": [
    "# 다음 User-Agent를 추가해봅시다.\n",
    "\n",
    "user_agent = {\"User-Agent\": \"Mozilla/5.0 (Macintosh; Intel Mac OS X 10_15_4) AppleWebKit/537.36 (KHTML, like Gecko) Chrome/83.0.4103.97 Safari/537.36\"}"
   ]
  },
  {
   "cell_type": "code",
   "execution_count": null,
   "id": "2331adbb-13bd-4109-ba39-4e59174d0da6",
   "metadata": {},
   "outputs": [],
   "source": [
    "# 필요한 라이브러리를 불러온 후, 요청을 진행해봅시다.\n",
    "\n"
   ]
  },
  {
   "cell_type": "code",
   "execution_count": null,
   "id": "f8138b08-8c1c-4644-a4c1-8890d10516d2",
   "metadata": {},
   "outputs": [],
   "source": [
    "# 응답을 바탕으로 BeautifulSoup 객체를 생성해봅시다.\n",
    "\n"
   ]
  },
  {
   "cell_type": "code",
   "execution_count": null,
   "id": "df722ecb-48ee-434d-ad7e-c01bef032165",
   "metadata": {},
   "outputs": [],
   "source": [
    "# 질문의 빈도를 체크하는 dict를 만든 후, 빈도를 체크해봅시다.\n",
    "\n"
   ]
  },
  {
   "cell_type": "code",
   "execution_count": null,
   "id": "beacf6bc-d9f7-4ca2-b027-d65892c62f9a",
   "metadata": {},
   "outputs": [],
   "source": [
    "# Counter를 사용해 가장 빈도가 높은 value들을 추출합니다.\n",
    "\n"
   ]
  },
  {
   "cell_type": "code",
   "execution_count": null,
   "id": "d31b97f8-033d-4636-bf90-76ebba724297",
   "metadata": {},
   "outputs": [],
   "source": [
    "# Seaborn을 이용해 이를 Barplot으로 그립니다.\n",
    "\n"
   ]
  },
  {
   "cell_type": "code",
   "execution_count": null,
   "id": "b1afb921-3a85-45cf-b342-85be6f1d5f2e",
   "metadata": {},
   "outputs": [],
   "source": [
    "# figure, xlabel, ylabel, title을 적절하게 설정해서 시각화를 완성해봅시다.\n",
    "\n"
   ]
  }
 ],
 "metadata": {
  "kernelspec": {
   "display_name": "Python 3 (ipykernel)",
   "language": "python",
   "name": "python3"
  },
  "language_info": {
   "codemirror_mode": {
    "name": "ipython",
    "version": 3
   },
   "file_extension": ".py",
   "mimetype": "text/x-python",
   "name": "python",
   "nbconvert_exporter": "python",
   "pygments_lexer": "ipython3",
   "version": "3.10.4"
  }
 },
 "nbformat": 4,
 "nbformat_minor": 5
}
